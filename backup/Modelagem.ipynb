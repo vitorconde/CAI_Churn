{
 "cells": [
  {
   "cell_type": "code",
   "execution_count": 3,
   "id": "8a3a10fc-c131-45fa-ad60-e98cbf377fe2",
   "metadata": {},
   "outputs": [],
   "source": [
    "#!pip install scikit-learn"
   ]
  },
  {
   "cell_type": "code",
   "execution_count": 21,
   "id": "c95e4352-86ac-428a-972f-a03967c7228c",
   "metadata": {},
   "outputs": [],
   "source": [
    "#!pip install fastapi \"uvicorn[standard]\" scikit-learn pandas"
   ]
  },
  {
   "cell_type": "code",
   "execution_count": 2,
   "id": "6909a032-19b9-4f04-8775-1cc70ed7a29f",
   "metadata": {},
   "outputs": [],
   "source": [
    "import pickle\n",
    "import pandas as pd\n",
    "from sklearn.model_selection import train_test_split\n",
    "from sklearn.compose import ColumnTransformer\n",
    "from sklearn.preprocessing import OneHotEncoder, StandardScaler\n",
    "from sklearn.pipeline import Pipeline\n",
    "from sklearn.linear_model import LogisticRegression"
   ]
  },
  {
   "cell_type": "code",
   "execution_count": 3,
   "id": "8525b223-cfbc-4751-b870-d3de6b9f7644",
   "metadata": {},
   "outputs": [],
   "source": [
    "# Exemplo de dados\n",
    "data = {\n",
    "    \"idade\": [25, 45, 30, 50, 40, 35, 28, 52, 33, 41],\n",
    "    \"genero\": [\"M\",\"F\",\"M\",\"F\",\"M\",\"M\",\"F\",\"F\",\"M\",\"F\"],\n",
    "    \"tempo_de_contrato_meses\": [12, 24, 5, 36, 48, 20, 6, 50, 15, 22],\n",
    "    \"gasto_mensal\": [120, 200, 80, 300, 150, 110, 95, 310, 100, 180],\n",
    "    \"churn\": [0,1,0,1,0,0,1,1,0,1]\n",
    "}\n",
    "df = pd.DataFrame(data)\n",
    "\n",
    "X = df.drop(columns=[\"churn\"])\n",
    "y = df[\"churn\"]\n",
    "\n",
    "X_train, X_test, y_train, y_test = train_test_split(\n",
    "    X, y, test_size=0.3, random_state=42, stratify=y\n",
    ")\n",
    "\n",
    "# Definição de features\n",
    "num_features = [\"idade\", \"tempo_de_contrato_meses\", \"gasto_mensal\"]\n",
    "cat_features = [\"genero\"]\n",
    "\n",
    "# Pré-processamento\n",
    "preprocess = ColumnTransformer(\n",
    "    transformers=[\n",
    "        (\"num\", StandardScaler(), num_features),\n",
    "        (\"cat\", OneHotEncoder(drop=\"first\", handle_unknown=\"ignore\"), cat_features),\n",
    "    ]\n",
    ")\n",
    "\n",
    "# Pipeline completo\n",
    "clf = Pipeline(steps=[\n",
    "    (\"preprocess\", preprocess),\n",
    "    (\"model\", LogisticRegression(max_iter=1000))\n",
    "])\n",
    "\n",
    "# Treino\n",
    "clf.fit(X_train, y_train)\n",
    "\n",
    "# Salvar pipeline\n",
    "with open(\"pipeline.pkl\", \"wb\") as f:\n",
    "    pickle.dump(clf, f)\n"
   ]
  },
  {
   "cell_type": "code",
   "execution_count": 1,
   "id": "d4e5ad50-5bf4-4d10-b955-971f397d62a8",
   "metadata": {},
   "outputs": [],
   "source": [
    "from joblib import dump, load"
   ]
  },
  {
   "cell_type": "code",
   "execution_count": 4,
   "id": "4d85808a-8113-463c-9c5d-107b68343b53",
   "metadata": {},
   "outputs": [
    {
     "data": {
      "text/plain": [
       "['model.joblib']"
      ]
     },
     "execution_count": 4,
     "metadata": {},
     "output_type": "execute_result"
    }
   ],
   "source": [
    "dump(clf, 'model.joblib')"
   ]
  },
  {
   "cell_type": "code",
   "execution_count": null,
   "id": "648d690f-5e4c-4420-bc0a-c6114c27f1af",
   "metadata": {},
   "outputs": [],
   "source": [
    "#Run test\n",
    "#uvicorn app:app --host 0.0.0.0 --port 5000 --workers 2\n"
   ]
  }
 ],
 "metadata": {
  "kernelspec": {
   "display_name": "Python 3 (ipykernel)",
   "language": "python",
   "name": "python3"
  },
  "language_info": {
   "codemirror_mode": {
    "name": "ipython",
    "version": 3
   },
   "file_extension": ".py",
   "mimetype": "text/x-python",
   "name": "python",
   "nbconvert_exporter": "python",
   "pygments_lexer": "ipython3",
   "version": "3.10.17"
  }
 },
 "nbformat": 4,
 "nbformat_minor": 5
}
